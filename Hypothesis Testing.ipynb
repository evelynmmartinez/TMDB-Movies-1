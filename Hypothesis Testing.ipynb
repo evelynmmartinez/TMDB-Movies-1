{
 "cells": [
  {
   "cell_type": "markdown",
   "id": "9f6cceb5",
   "metadata": {},
   "source": [
    "# Hypothesis Testing"
   ]
  },
  {
   "cell_type": "code",
   "execution_count": null,
   "id": "9d9ede5e",
   "metadata": {},
   "outputs": [],
   "source": [
    "import json\n",
    "import pandas as pd\n",
    "import numpy as np\n",
    "import seaborn as sns\n",
    "from scipy import stats"
   ]
  },
  {
   "cell_type": "markdown",
   "id": "9e2bfafb",
   "metadata": {},
   "source": [
    "# 1. Does the MPAA rating of a movie (G/PG/PG-13/R) affect how much revenue the movie generates?"
   ]
  },
  {
   "cell_type": "markdown",
   "id": "b1f427f1",
   "metadata": {},
   "source": [
    "## Stating hypothesis \n"
   ]
  },
  {
   "cell_type": "markdown",
   "id": "e0fc268a",
   "metadata": {},
   "source": []
  },
  {
   "cell_type": "markdown",
   "id": "7bbdba60",
   "metadata": {},
   "source": []
  },
  {
   "cell_type": "markdown",
   "id": "1bd1e65e",
   "metadata": {},
   "source": []
  },
  {
   "cell_type": "markdown",
   "id": "26626406",
   "metadata": {},
   "source": []
  }
 ],
 "metadata": {
  "kernelspec": {
   "display_name": "Python (dojo-env)",
   "language": "python",
   "name": "dojo-env"
  },
  "language_info": {
   "codemirror_mode": {
    "name": "ipython",
    "version": 3
   },
   "file_extension": ".py",
   "mimetype": "text/x-python",
   "name": "python",
   "nbconvert_exporter": "python",
   "pygments_lexer": "ipython3",
   "version": "3.9.15"
  },
  "toc": {
   "base_numbering": "",
   "nav_menu": {},
   "number_sections": false,
   "sideBar": true,
   "skip_h1_title": false,
   "title_cell": "Table of Contents",
   "title_sidebar": "Contents",
   "toc_cell": false,
   "toc_position": {
    "height": "calc(100% - 180px)",
    "left": "10px",
    "top": "150px",
    "width": "229px"
   },
   "toc_section_display": true,
   "toc_window_display": true
  }
 },
 "nbformat": 4,
 "nbformat_minor": 5
}
