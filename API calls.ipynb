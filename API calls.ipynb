{
 "cells": [
  {
   "cell_type": "code",
   "execution_count": 1,
   "id": "7e4a1b70",
   "metadata": {},
   "outputs": [],
   "source": [
    "import pandas as pd\n",
    "import numpy as np"
   ]
  },
  {
   "cell_type": "code",
   "execution_count": 2,
   "id": "80366506",
   "metadata": {},
   "outputs": [
    {
     "name": "stdout",
     "output_type": "stream",
     "text": [
      "Requirement already satisfied: tmdbsimple in /Users/evelynmartinez/anaconda3/envs/dojo-env/lib/python3.9/site-packages (2.9.1)\r\n",
      "Requirement already satisfied: requests in /Users/evelynmartinez/anaconda3/envs/dojo-env/lib/python3.9/site-packages (from tmdbsimple) (2.31.0)\r\n",
      "Requirement already satisfied: charset-normalizer<4,>=2 in /Users/evelynmartinez/anaconda3/envs/dojo-env/lib/python3.9/site-packages (from requests->tmdbsimple) (2.0.4)\r\n",
      "Requirement already satisfied: certifi>=2017.4.17 in /Users/evelynmartinez/anaconda3/envs/dojo-env/lib/python3.9/site-packages (from requests->tmdbsimple) (2022.9.24)\r\n",
      "Requirement already satisfied: idna<4,>=2.5 in /Users/evelynmartinez/anaconda3/envs/dojo-env/lib/python3.9/site-packages (from requests->tmdbsimple) (3.4)\r\n",
      "Requirement already satisfied: urllib3<3,>=1.21.1 in /Users/evelynmartinez/anaconda3/envs/dojo-env/lib/python3.9/site-packages (from requests->tmdbsimple) (1.26.13)\r\n"
     ]
    }
   ],
   "source": [
    "!pip install tmdbsimple\n"
   ]
  },
  {
   "cell_type": "code",
   "execution_count": 3,
   "id": "90999a95",
   "metadata": {},
   "outputs": [
    {
     "data": {
      "text/plain": [
       "dict_keys(['api-key'])"
      ]
     },
     "execution_count": 3,
     "metadata": {},
     "output_type": "execute_result"
    }
   ],
   "source": [
    "import json\n",
    "with open('/Users/evelynmartinez/.secret/tmdb_api.json') as f:\n",
    "    login = json.load(f)\n",
    "    \n",
    "login.keys()"
   ]
  },
  {
   "cell_type": "code",
   "execution_count": 5,
   "id": "525eabad",
   "metadata": {},
   "outputs": [],
   "source": [
    "import tmdbsimple as tmdb\n",
    "tmdb.API_KEY = login['api-key']"
   ]
  },
  {
   "cell_type": "code",
   "execution_count": 6,
   "id": "183d43cd",
   "metadata": {},
   "outputs": [],
   "source": [
    "movie = tmdb.Movies(603)"
   ]
  },
  {
   "cell_type": "code",
   "execution_count": 7,
   "id": "53eee7b5",
   "metadata": {
    "scrolled": true
   },
   "outputs": [
    {
     "data": {
      "text/plain": [
       "{'adult': False,\n",
       " 'backdrop_path': '/oMsxZEvz9a708d49b6UdZK1KAo5.jpg',\n",
       " 'belongs_to_collection': {'id': 2344,\n",
       "  'name': 'The Matrix Collection',\n",
       "  'poster_path': '/bV9qTVHTVf0gkW0j7p7M0ILD4pG.jpg',\n",
       "  'backdrop_path': '/bRm2DEgUiYciDw3myHuYFInD7la.jpg'},\n",
       " 'budget': 63000000,\n",
       " 'genres': [{'id': 28, 'name': 'Action'},\n",
       "  {'id': 878, 'name': 'Science Fiction'}],\n",
       " 'homepage': 'http://www.warnerbros.com/matrix',\n",
       " 'id': 603,\n",
       " 'imdb_id': 'tt0133093',\n",
       " 'original_language': 'en',\n",
       " 'original_title': 'The Matrix',\n",
       " 'overview': 'Set in the 22nd century, The Matrix tells the story of a computer hacker who joins a group of underground insurgents fighting the vast and powerful computers who now rule the earth.',\n",
       " 'popularity': 70.496,\n",
       " 'poster_path': '/f89U3ADr1oiB1s9GkdPOEpXUk5H.jpg',\n",
       " 'production_companies': [{'id': 79,\n",
       "   'logo_path': '/tpFpsqbleCzEE2p5EgvUq6ozfCA.png',\n",
       "   'name': 'Village Roadshow Pictures',\n",
       "   'origin_country': 'US'},\n",
       "  {'id': 372,\n",
       "   'logo_path': None,\n",
       "   'name': 'Groucho II Film Partnership',\n",
       "   'origin_country': ''},\n",
       "  {'id': 1885,\n",
       "   'logo_path': '/xlvoOZr4s1PygosrwZyolIFe5xs.png',\n",
       "   'name': 'Silver Pictures',\n",
       "   'origin_country': 'US'},\n",
       "  {'id': 174,\n",
       "   'logo_path': '/IuAlhI9eVC9Z8UQWOIDdWRKSEJ.png',\n",
       "   'name': 'Warner Bros. Pictures',\n",
       "   'origin_country': 'US'}],\n",
       " 'production_countries': [{'iso_3166_1': 'US',\n",
       "   'name': 'United States of America'}],\n",
       " 'release_date': '1999-03-30',\n",
       " 'revenue': 463517383,\n",
       " 'runtime': 136,\n",
       " 'spoken_languages': [{'english_name': 'English',\n",
       "   'iso_639_1': 'en',\n",
       "   'name': 'English'}],\n",
       " 'status': 'Released',\n",
       " 'tagline': 'Welcome to the Real World.',\n",
       " 'title': 'The Matrix',\n",
       " 'video': False,\n",
       " 'vote_average': 8.206,\n",
       " 'vote_count': 23843}"
      ]
     },
     "execution_count": 7,
     "metadata": {},
     "output_type": "execute_result"
    }
   ],
   "source": [
    "info = movie.info()\n",
    "info"
   ]
  },
  {
   "cell_type": "code",
   "execution_count": 8,
   "id": "4d98eede",
   "metadata": {},
   "outputs": [
    {
     "data": {
      "text/plain": [
       "63000000"
      ]
     },
     "execution_count": 8,
     "metadata": {},
     "output_type": "execute_result"
    }
   ],
   "source": [
    "info['budget']"
   ]
  },
  {
   "cell_type": "code",
   "execution_count": 9,
   "id": "c2b98ad8",
   "metadata": {},
   "outputs": [
    {
     "data": {
      "text/plain": [
       "463517383"
      ]
     },
     "execution_count": 9,
     "metadata": {},
     "output_type": "execute_result"
    }
   ],
   "source": [
    "info['revenue']"
   ]
  },
  {
   "cell_type": "code",
   "execution_count": 10,
   "id": "e17ee379",
   "metadata": {},
   "outputs": [
    {
     "data": {
      "text/plain": [
       "'tt0133093'"
      ]
     },
     "execution_count": 10,
     "metadata": {},
     "output_type": "execute_result"
    }
   ],
   "source": [
    "info['imdb_id']"
   ]
  },
  {
   "cell_type": "code",
   "execution_count": 11,
   "id": "4b933247",
   "metadata": {},
   "outputs": [
    {
     "data": {
      "text/plain": [
       "50000000"
      ]
     },
     "execution_count": 11,
     "metadata": {},
     "output_type": "execute_result"
    }
   ],
   "source": [
    "movie = tmdb.Movies('tt1361336')\n",
    "info = movie.info()\n",
    "info['budget']"
   ]
  },
  {
   "cell_type": "code",
   "execution_count": 12,
   "id": "ebc32dd3",
   "metadata": {},
   "outputs": [],
   "source": [
    "response = movie.releases()"
   ]
  },
  {
   "cell_type": "code",
   "execution_count": 13,
   "id": "fe110b3a",
   "metadata": {},
   "outputs": [
    {
     "data": {
      "text/plain": [
       "{'id': 587807,\n",
       " 'countries': [{'certification': '',\n",
       "   'descriptors': [],\n",
       "   'iso_3166_1': 'CO',\n",
       "   'primary': False,\n",
       "   'release_date': '2021-02-12'},\n",
       "  {'certification': 'PG',\n",
       "   'descriptors': [],\n",
       "   'iso_3166_1': 'US',\n",
       "   'primary': False,\n",
       "   'release_date': '2021-02-26'},\n",
       "  {'certification': 'ALL',\n",
       "   'descriptors': [],\n",
       "   'iso_3166_1': 'KR',\n",
       "   'primary': False,\n",
       "   'release_date': '2021-02-24'},\n",
       "  {'certification': '',\n",
       "   'descriptors': [],\n",
       "   'iso_3166_1': 'ID',\n",
       "   'primary': False,\n",
       "   'release_date': '2021-03-10'},\n",
       "  {'certification': '6',\n",
       "   'descriptors': [],\n",
       "   'iso_3166_1': 'NL',\n",
       "   'primary': False,\n",
       "   'release_date': '2021-06-09'},\n",
       "  {'certification': 'G',\n",
       "   'descriptors': [],\n",
       "   'iso_3166_1': 'IE',\n",
       "   'primary': False,\n",
       "   'release_date': '2021-05-07'},\n",
       "  {'certification': 'M/6',\n",
       "   'descriptors': [],\n",
       "   'iso_3166_1': 'PT',\n",
       "   'primary': False,\n",
       "   'release_date': '2021-03-04'},\n",
       "  {'certification': '6+',\n",
       "   'descriptors': [],\n",
       "   'iso_3166_1': 'RU',\n",
       "   'primary': False,\n",
       "   'release_date': '2021-02-25'},\n",
       "  {'certification': 'L',\n",
       "   'descriptors': [],\n",
       "   'iso_3166_1': 'BR',\n",
       "   'primary': False,\n",
       "   'release_date': '2021-02-11'},\n",
       "  {'certification': '7',\n",
       "   'descriptors': [],\n",
       "   'iso_3166_1': 'DK',\n",
       "   'primary': False,\n",
       "   'release_date': '2021-02-11'},\n",
       "  {'certification': 'G',\n",
       "   'descriptors': [],\n",
       "   'iso_3166_1': 'AU',\n",
       "   'primary': False,\n",
       "   'release_date': '2021-04-01'},\n",
       "  {'certification': '',\n",
       "   'descriptors': [],\n",
       "   'iso_3166_1': 'HK',\n",
       "   'primary': False,\n",
       "   'release_date': '2021-03-11'},\n",
       "  {'certification': 'U',\n",
       "   'descriptors': [],\n",
       "   'iso_3166_1': 'FR',\n",
       "   'primary': False,\n",
       "   'release_date': '2021-05-19'},\n",
       "  {'certification': 'Btl',\n",
       "   'descriptors': [],\n",
       "   'iso_3166_1': 'SE',\n",
       "   'primary': False,\n",
       "   'release_date': '2021-05-28'},\n",
       "  {'certification': '0',\n",
       "   'descriptors': [],\n",
       "   'iso_3166_1': 'DE',\n",
       "   'primary': False,\n",
       "   'release_date': '2021-06-17'},\n",
       "  {'certification': '',\n",
       "   'descriptors': [],\n",
       "   'iso_3166_1': 'CZ',\n",
       "   'primary': False,\n",
       "   'release_date': '2021-06-10'},\n",
       "  {'certification': 'U',\n",
       "   'descriptors': [],\n",
       "   'iso_3166_1': 'SK',\n",
       "   'primary': False,\n",
       "   'release_date': '2021-05-27'},\n",
       "  {'certification': 'V',\n",
       "   'descriptors': [],\n",
       "   'iso_3166_1': 'LT',\n",
       "   'primary': False,\n",
       "   'release_date': '2021-05-07'},\n",
       "  {'certification': '6',\n",
       "   'descriptors': [],\n",
       "   'iso_3166_1': 'HU',\n",
       "   'primary': False,\n",
       "   'release_date': '2021-05-20'},\n",
       "  {'certification': '',\n",
       "   'descriptors': [],\n",
       "   'iso_3166_1': 'PL',\n",
       "   'primary': False,\n",
       "   'release_date': '2021-06-11'},\n",
       "  {'certification': '7',\n",
       "   'descriptors': [],\n",
       "   'iso_3166_1': 'ES',\n",
       "   'primary': False,\n",
       "   'release_date': '2021-03-26'},\n",
       "  {'certification': 'PG',\n",
       "   'descriptors': [],\n",
       "   'iso_3166_1': 'SG',\n",
       "   'primary': False,\n",
       "   'release_date': '2021-02-11'},\n",
       "  {'certification': 'Κ',\n",
       "   'descriptors': [],\n",
       "   'iso_3166_1': 'GR',\n",
       "   'primary': False,\n",
       "   'release_date': '2021-06-10'},\n",
       "  {'certification': '普遍級',\n",
       "   'descriptors': [],\n",
       "   'iso_3166_1': 'TW',\n",
       "   'primary': False,\n",
       "   'release_date': '2021-02-10'},\n",
       "  {'certification': '',\n",
       "   'descriptors': [],\n",
       "   'iso_3166_1': 'KZ',\n",
       "   'primary': False,\n",
       "   'release_date': '2021-02-25'},\n",
       "  {'certification': 'PG',\n",
       "   'descriptors': [],\n",
       "   'iso_3166_1': 'US',\n",
       "   'primary': False,\n",
       "   'release_date': '2021-02-26'},\n",
       "  {'certification': 'PG',\n",
       "   'descriptors': [],\n",
       "   'iso_3166_1': 'GB',\n",
       "   'primary': False,\n",
       "   'release_date': '2021-03-25'},\n",
       "  {'certification': 'G',\n",
       "   'descriptors': [],\n",
       "   'iso_3166_1': 'AU',\n",
       "   'primary': False,\n",
       "   'release_date': '2021-06-01'},\n",
       "  {'certification': 'G',\n",
       "   'descriptors': [],\n",
       "   'iso_3166_1': 'NZ',\n",
       "   'primary': False,\n",
       "   'release_date': '2021-06-01'},\n",
       "  {'certification': 'U',\n",
       "   'descriptors': [],\n",
       "   'iso_3166_1': 'FR',\n",
       "   'primary': False,\n",
       "   'release_date': '2021-09-16'},\n",
       "  {'certification': 'U',\n",
       "   'descriptors': [],\n",
       "   'iso_3166_1': 'FR',\n",
       "   'primary': False,\n",
       "   'release_date': '2022-02-16'},\n",
       "  {'certification': 'PG',\n",
       "   'descriptors': [],\n",
       "   'iso_3166_1': 'GB',\n",
       "   'primary': False,\n",
       "   'release_date': '2021-05-24'},\n",
       "  {'certification': 'G',\n",
       "   'descriptors': [],\n",
       "   'iso_3166_1': 'AU',\n",
       "   'primary': False,\n",
       "   'release_date': '2021-06-21'},\n",
       "  {'certification': 'PG',\n",
       "   'descriptors': [],\n",
       "   'iso_3166_1': 'US',\n",
       "   'primary': False,\n",
       "   'release_date': '2021-05-18'},\n",
       "  {'certification': 'U',\n",
       "   'descriptors': [],\n",
       "   'iso_3166_1': 'FR',\n",
       "   'primary': False,\n",
       "   'release_date': '2021-09-22'},\n",
       "  {'certification': '',\n",
       "   'descriptors': [],\n",
       "   'iso_3166_1': 'GR',\n",
       "   'primary': False,\n",
       "   'release_date': '2021-09-23'},\n",
       "  {'certification': '',\n",
       "   'descriptors': [],\n",
       "   'iso_3166_1': 'CA',\n",
       "   'primary': False,\n",
       "   'release_date': '2021-07-31'}]}"
      ]
     },
     "execution_count": 13,
     "metadata": {},
     "output_type": "execute_result"
    }
   ],
   "source": [
    "response"
   ]
  },
  {
   "cell_type": "code",
   "execution_count": 14,
   "id": "d3116dd6",
   "metadata": {},
   "outputs": [
    {
     "name": "stdout",
     "output_type": "stream",
     "text": [
      "PG\n",
      "PG\n",
      "PG\n"
     ]
    }
   ],
   "source": [
    "response = movie.releases()\n",
    "for c in movie.countries:\n",
    "    if c['iso_3166_1'] == 'US':\n",
    "        print(c['certification'])"
   ]
  },
  {
   "cell_type": "code",
   "execution_count": 15,
   "id": "a957fe7c",
   "metadata": {},
   "outputs": [],
   "source": [
    "movie = tmdb.Movies('tt1361336')\n",
    "info = movie.info()\n",
    "releases = movie.releases()\n",
    "for c in releases['countries']:\n",
    "    if c['iso_3166_1'] == 'US':\n",
    "        info['certification'] = c['certification']"
   ]
  },
  {
   "cell_type": "code",
   "execution_count": 16,
   "id": "ea238ec3",
   "metadata": {},
   "outputs": [],
   "source": [
    "def get_movie_with_rating(movie_id):\n",
    "    \n",
    "    movie = tmdb.Movies(movie_id)\n",
    "    movie_info = movie.info()\n",
    "    releases = movie.releases()\n",
    "    for c in releases['countries']:\n",
    "        if c['iso_3166_1'] == 'US':\n",
    "            info['certification'] = c['certification']\n",
    "    return info"
   ]
  },
  {
   "cell_type": "code",
   "execution_count": 17,
   "id": "7629f246",
   "metadata": {},
   "outputs": [
    {
     "data": {
      "text/plain": [
       "{'adult': False,\n",
       " 'backdrop_path': '/9ns9463dwOeo1CK1JU2wirL5Yi1.jpg',\n",
       " 'belongs_to_collection': None,\n",
       " 'budget': 50000000,\n",
       " 'genres': [{'id': 35, 'name': 'Comedy'},\n",
       "  {'id': 10751, 'name': 'Family'},\n",
       "  {'id': 16, 'name': 'Animation'}],\n",
       " 'homepage': 'https://www.tomandjerrymovie.com',\n",
       " 'id': 587807,\n",
       " 'imdb_id': 'tt1361336',\n",
       " 'original_language': 'en',\n",
       " 'original_title': 'Tom & Jerry',\n",
       " 'overview': 'Tom the cat and Jerry the mouse get kicked out of their home and relocate to a fancy New York hotel, where a scrappy employee named Kayla will lose her job if she can’t evict Jerry before a high-class wedding at the hotel. Her solution? Hiring Tom to get rid of the pesky mouse.',\n",
       " 'popularity': 39.077,\n",
       " 'poster_path': '/8XZI9QZ7Pm3fVkigWJPbrXCMzjq.jpg',\n",
       " 'production_companies': [{'id': 25120,\n",
       "   'logo_path': '/lMj6nMJBOzfLEd2fu8uF530AJcv.png',\n",
       "   'name': 'Warner Bros. Pictures Animation',\n",
       "   'origin_country': 'US'},\n",
       "  {'id': 8922,\n",
       "   'logo_path': '/yZWehAyjfKi4KvKeg1bkJ1bm5H8.png',\n",
       "   'name': 'Turner Entertainment',\n",
       "   'origin_country': 'US'},\n",
       "  {'id': 77061,\n",
       "   'logo_path': None,\n",
       "   'name': 'The Story Company',\n",
       "   'origin_country': 'US'},\n",
       "  {'id': 174,\n",
       "   'logo_path': '/IuAlhI9eVC9Z8UQWOIDdWRKSEJ.png',\n",
       "   'name': 'Warner Bros. Pictures',\n",
       "   'origin_country': 'US'}],\n",
       " 'production_countries': [{'iso_3166_1': 'US',\n",
       "   'name': 'United States of America'}],\n",
       " 'release_date': '2021-02-10',\n",
       " 'revenue': 136536687,\n",
       " 'runtime': 101,\n",
       " 'spoken_languages': [{'english_name': 'English',\n",
       "   'iso_639_1': 'en',\n",
       "   'name': 'English'}],\n",
       " 'status': 'Released',\n",
       " 'tagline': 'Best of enemies. Worst of friends.',\n",
       " 'title': 'Tom & Jerry',\n",
       " 'video': False,\n",
       " 'vote_average': 6.86,\n",
       " 'vote_count': 2290,\n",
       " 'certification': 'PG-13'}"
      ]
     },
     "execution_count": 17,
     "metadata": {},
     "output_type": "execute_result"
    }
   ],
   "source": [
    "test = get_movie_with_rating('tt0848228')\n",
    "test"
   ]
  },
  {
   "cell_type": "code",
   "execution_count": 21,
   "id": "a753a4e5",
   "metadata": {},
   "outputs": [
    {
     "ename": "NameError",
     "evalue": "name 'os' is not defined",
     "output_type": "error",
     "traceback": [
      "\u001b[0;31m---------------------------------------------------------------------------\u001b[0m",
      "\u001b[0;31mNameError\u001b[0m                                 Traceback (most recent call last)",
      "Cell \u001b[0;32mIn [21], line 4\u001b[0m\n\u001b[1;32m      2\u001b[0m \u001b[38;5;28;01mimport\u001b[39;00m \u001b[38;5;21;01mtmdbsimple\u001b[39;00m \u001b[38;5;28;01mas\u001b[39;00m \u001b[38;5;21;01mtmdb\u001b[39;00m \n\u001b[1;32m      3\u001b[0m FOLDER \u001b[38;5;241m=\u001b[39m \u001b[38;5;124m\"\u001b[39m\u001b[38;5;124mData/\u001b[39m\u001b[38;5;124m\"\u001b[39m\n\u001b[0;32m----> 4\u001b[0m \u001b[43mos\u001b[49m\u001b[38;5;241m.\u001b[39mmakedirs(FOLDER, exist_ok\u001b[38;5;241m=\u001b[39m\u001b[38;5;28;01mTrue\u001b[39;00m)\n\u001b[1;32m      5\u001b[0m os\u001b[38;5;241m.\u001b[39mlistdir(FOLDER)\n",
      "\u001b[0;31mNameError\u001b[0m: name 'os' is not defined"
     ]
    }
   ],
   "source": [
    "# import os, time,json\n",
    "import tmdbsimple as tmdb \n",
    "FOLDER = \"Data/\"\n",
    "os.makedirs(FOLDER, exist_ok=True)\n",
    "os.listdir(FOLDER)"
   ]
  },
  {
   "cell_type": "code",
   "execution_count": null,
   "id": "38ed398f",
   "metadata": {},
   "outputs": [],
   "source": [
    "import pandas as pd\n",
    "basics = pd.read_csv('Data/title_basics_1.csv.gz')\n",
    "basics.head()"
   ]
  },
  {
   "cell_type": "code",
   "execution_count": null,
   "id": "3febb6d7",
   "metadata": {},
   "outputs": [],
   "source": [
    "def write_json(new_data, filename): \n",
    "    \"\"\"Appends a list of records (new_data) to a json file (filename). \n",
    "    Adapted from: https://www.geeksforgeeks.org/append-to-json-file-using-python/\"\"\"  \n",
    "    \n",
    "    with open(filename,'r+') as file:\n",
    "        # First we load existing data into a dict.\n",
    "        file_data = json.load(file)\n",
    "        ## Choose extend or append\n",
    "        if (type(new_data) == list) & (type(file_data) == list):\n",
    "            file_data.extend(new_data)\n",
    "        else:\n",
    "             file_data.append(new_data)\n",
    "        # Sets file's current position at offset.\n",
    "        file.seek(0)\n",
    "        # convert back to json.\n",
    "        json.dump(file_data, file)"
   ]
  },
  {
   "cell_type": "code",
   "execution_count": null,
   "id": "58e95afe",
   "metadata": {},
   "outputs": [],
   "source": [
    "YEARS_TO_GET = [2000,2001]"
   ]
  },
  {
   "cell_type": "code",
   "execution_count": null,
   "id": "8d59c126",
   "metadata": {},
   "outputs": [],
   "source": [
    "\n",
    "for YEAR in tqdm_notebook(YEARS_TO_GET, desc='YEARS',position=0):\n",
    "    JSON_FILE = f'{FOLDER}tmdb_api_results_{YEAR}.json'\n",
    "    file_exists = os.path.isfile(JSON_FILE)\n",
    "\n",
    "    # If it does not exist: create it\n",
    "    if file_exists == False:\n",
    "    # save an empty dict with just \"imdb_id\" to the new json file.\n",
    "        with open(JSON_FILE,'w') as f:\n",
    "            json.dump([{'imdb_id':0}],f)\n",
    "\n",
    "    df = basics.loc[basics['startYear']==YEAR].copy()\n",
    "\n",
    "    movie_ids = df['tconst'].copy()\n",
    "    movie_ids\n",
    "\n",
    "    # Load existing data from json into a dataframe called \"previous_df\"\n",
    "    previous_df = pd.read_json(JSON_FILE)\n",
    "    previous_df\n",
    "\n",
    "    # filter out any ids that are already in the JSON_FILE\n",
    "    movie_ids_to_get = movie_ids[~movie_ids.isin(previous_df['imdb_id'])]\n",
    "\n",
    "    #Get index and movie id from list\n",
    "    # INNER Loop\n",
    "    from tqdm.notebook import tqdm_notebook\n",
    "    for movie_id in tqdm_notebook(movie_ids_to_get,\n",
    "                                  desc=f'Movies from {YEAR}',\n",
    "                                  position=1,\n",
    "                                  leave=True):\n",
    "        try:\n",
    "            # Retrieve then data for the movie id\n",
    "            temp = get_movie_with_rating(movie_id)  \n",
    "            # Append/extend results to existing file using a pre-made function\n",
    "            write_json(temp,JSON_FILE)\n",
    "            # Short 20 ms sleep to prevent overwhelming server\n",
    "            time.sleep(0.02)\n",
    "            \n",
    "        except Exception as e:\n",
    "            continue\n",
    "\n",
    "    final_year_df = pd.read_json(JSON_FILE)\n",
    "    final_year_df.to_csv(f\"{FOLDER}final_tmdb_data_{YEAR}.csv.gz\", compression=\"gzip\", index=False)"
   ]
  },
  {
   "cell_type": "code",
   "execution_count": null,
   "id": "b2cae47c",
   "metadata": {},
   "outputs": [],
   "source": []
  }
 ],
 "metadata": {
  "kernelspec": {
   "display_name": "Python (dojo-env)",
   "language": "python",
   "name": "dojo-env"
  },
  "language_info": {
   "codemirror_mode": {
    "name": "ipython",
    "version": 3
   },
   "file_extension": ".py",
   "mimetype": "text/x-python",
   "name": "python",
   "nbconvert_exporter": "python",
   "pygments_lexer": "ipython3",
   "version": "3.9.15"
  },
  "toc": {
   "base_numbering": 1,
   "nav_menu": {},
   "number_sections": true,
   "sideBar": true,
   "skip_h1_title": false,
   "title_cell": "Table of Contents",
   "title_sidebar": "Contents",
   "toc_cell": false,
   "toc_position": {},
   "toc_section_display": true,
   "toc_window_display": false
  }
 },
 "nbformat": 4,
 "nbformat_minor": 5
}
