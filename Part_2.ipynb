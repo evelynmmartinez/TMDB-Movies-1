{
 "cells": [
  {
   "cell_type": "code",
   "execution_count": 1,
   "id": "468a6835",
   "metadata": {},
   "outputs": [
    {
     "name": "stdout",
     "output_type": "stream",
     "text": [
      "Requirement already satisfied: tmdbsimple in /Users/evelynmartinez/anaconda3/envs/dojo-env/lib/python3.9/site-packages (2.9.1)\r\n",
      "Requirement already satisfied: requests in /Users/evelynmartinez/anaconda3/envs/dojo-env/lib/python3.9/site-packages (from tmdbsimple) (2.31.0)\r\n",
      "Requirement already satisfied: urllib3<3,>=1.21.1 in /Users/evelynmartinez/anaconda3/envs/dojo-env/lib/python3.9/site-packages (from requests->tmdbsimple) (1.26.13)\r\n",
      "Requirement already satisfied: idna<4,>=2.5 in /Users/evelynmartinez/anaconda3/envs/dojo-env/lib/python3.9/site-packages (from requests->tmdbsimple) (3.4)\r\n",
      "Requirement already satisfied: certifi>=2017.4.17 in /Users/evelynmartinez/anaconda3/envs/dojo-env/lib/python3.9/site-packages (from requests->tmdbsimple) (2022.9.24)\r\n",
      "Requirement already satisfied: charset-normalizer<4,>=2 in /Users/evelynmartinez/anaconda3/envs/dojo-env/lib/python3.9/site-packages (from requests->tmdbsimple) (2.0.4)\r\n"
     ]
    }
   ],
   "source": [
    "!pip install tmdbsimple\n"
   ]
  },
  {
   "cell_type": "code",
   "execution_count": 2,
   "id": "e81cd1dd",
   "metadata": {},
   "outputs": [
    {
     "data": {
      "text/plain": [
       "dict_keys(['Client-ID', 'API Key'])"
      ]
     },
     "execution_count": 2,
     "metadata": {},
     "output_type": "execute_result"
    }
   ],
   "source": [
    "import json\n",
    "with open('/Users/evelynmartinez/.secret/tmdb_api.json') as f:\n",
    "    login = json.load(f)\n",
    "    \n",
    "login.keys()"
   ]
  },
  {
   "cell_type": "code",
   "execution_count": 3,
   "id": "18791d30",
   "metadata": {},
   "outputs": [],
   "source": [
    "import tmdbsimple as tmdb\n",
    "tmdb.API_KEY = login['API Key']"
   ]
  },
  {
   "cell_type": "code",
   "execution_count": 4,
   "id": "b03e2173",
   "metadata": {},
   "outputs": [],
   "source": [
    "movie = tmdb.Movies(100)"
   ]
  },
  {
   "cell_type": "code",
   "execution_count": 5,
   "id": "e6d4383b",
   "metadata": {
    "scrolled": true
   },
   "outputs": [
    {
     "data": {
      "text/plain": [
       "{'adult': False,\n",
       " 'backdrop_path': '/cXQH2u7wUIX1eoIdEj51kHXoWhX.jpg',\n",
       " 'belongs_to_collection': None,\n",
       " 'budget': 1350000,\n",
       " 'genres': [{'id': 35, 'name': 'Comedy'}, {'id': 80, 'name': 'Crime'}],\n",
       " 'homepage': 'http://www.universalstudiosentertainment.com/lock-stock-and-two-smoking-barrels/',\n",
       " 'id': 100,\n",
       " 'imdb_id': 'tt0120735',\n",
       " 'original_language': 'en',\n",
       " 'original_title': 'Lock, Stock and Two Smoking Barrels',\n",
       " 'overview': 'A card shark and his unwillingly-enlisted friends need to make a lot of cash quick after losing a sketchy poker match. To do this they decide to pull a heist on a small-time gang who happen to be operating out of the flat next door.',\n",
       " 'popularity': 13.657,\n",
       " 'poster_path': '/8kSerJrhrJWKLk1LViesGcnrUPE.jpg',\n",
       " 'production_companies': [{'id': 491,\n",
       "   'logo_path': '/5LvDUt3KmvRnXQ4NrdWJYHeuA8J.png',\n",
       "   'name': 'Summit Entertainment',\n",
       "   'origin_country': 'US'},\n",
       "  {'id': 21920,\n",
       "   'logo_path': None,\n",
       "   'name': 'The Steve Tisch Company',\n",
       "   'origin_country': ''},\n",
       "  {'id': 13419,\n",
       "   'logo_path': None,\n",
       "   'name': 'SKA Films',\n",
       "   'origin_country': 'GB'},\n",
       "  {'id': 1382,\n",
       "   'logo_path': '/sOg7LGESPH5vCTOIdbMhLuypoLL.png',\n",
       "   'name': 'PolyGram Filmed Entertainment',\n",
       "   'origin_country': 'US'},\n",
       "  {'id': 20076,\n",
       "   'logo_path': '/i9qXGJIP9fGN22PP5jXUVENbyHi.png',\n",
       "   'name': 'HandMade Films',\n",
       "   'origin_country': 'GB'}],\n",
       " 'production_countries': [{'iso_3166_1': 'GB', 'name': 'United Kingdom'},\n",
       "  {'iso_3166_1': 'US', 'name': 'United States of America'}],\n",
       " 'release_date': '1998-08-28',\n",
       " 'revenue': 28356188,\n",
       " 'runtime': 105,\n",
       " 'spoken_languages': [{'english_name': 'English',\n",
       "   'iso_639_1': 'en',\n",
       "   'name': 'English'}],\n",
       " 'status': 'Released',\n",
       " 'tagline': 'A Disgrace to Criminals Everywhere.',\n",
       " 'title': 'Lock, Stock and Two Smoking Barrels',\n",
       " 'video': False,\n",
       " 'vote_average': 8.126,\n",
       " 'vote_count': 6071}"
      ]
     },
     "execution_count": 5,
     "metadata": {},
     "output_type": "execute_result"
    }
   ],
   "source": [
    "info = movie.info()\n",
    "info"
   ]
  },
  {
   "cell_type": "code",
   "execution_count": null,
   "id": "c2acce28",
   "metadata": {},
   "outputs": [],
   "source": []
  }
 ],
 "metadata": {
  "kernelspec": {
   "display_name": "Python (dojo-env)",
   "language": "python",
   "name": "dojo-env"
  },
  "language_info": {
   "codemirror_mode": {
    "name": "ipython",
    "version": 3
   },
   "file_extension": ".py",
   "mimetype": "text/x-python",
   "name": "python",
   "nbconvert_exporter": "python",
   "pygments_lexer": "ipython3",
   "version": "3.9.15"
  },
  "toc": {
   "base_numbering": 1,
   "nav_menu": {},
   "number_sections": true,
   "sideBar": true,
   "skip_h1_title": false,
   "title_cell": "Table of Contents",
   "title_sidebar": "Contents",
   "toc_cell": false,
   "toc_position": {},
   "toc_section_display": true,
   "toc_window_display": false
  }
 },
 "nbformat": 4,
 "nbformat_minor": 5
}
